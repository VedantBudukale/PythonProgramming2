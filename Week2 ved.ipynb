{
  "nbformat": 4,
  "nbformat_minor": 0,
  "metadata": {
    "colab": {
      "provenance": []
    },
    "kernelspec": {
      "name": "python3",
      "display_name": "Python 3"
    },
    "language_info": {
      "name": "python"
    }
  },
  "cells": [
    {
      "cell_type": "markdown",
      "source": [
        "# **Section A**"
      ],
      "metadata": {
        "id": "-qaEzEA5CcsK"
      }
    },
    {
      "cell_type": "code",
      "execution_count": null,
      "metadata": {
        "colab": {
          "base_uri": "https://localhost:8080/"
        },
        "id": "vVJdkmlS6zyB",
        "outputId": "fa1655c6-b1d1-4544-e7e8-de33c111b0bf"
      },
      "outputs": [
        {
          "output_type": "stream",
          "name": "stdout",
          "text": [
            "0\n"
          ]
        }
      ],
      "source": [
        "#1 Create a function that takes three integer arguments (a, b, c) and returns the amount of integers which are of equal value.\n",
        "\n",
        "def num(x,y,z,) :\n",
        "  if x == y and x == z:\n",
        "    return 3\n",
        "  elif x==y or x==z:\n",
        "    return 2\n",
        "  else:\n",
        "    return 0\n",
        "print(num(2,1,3))\n"
      ]
    },
    {
      "cell_type": "code",
      "source": [
        "#2 Write a function that converts a dictionary into a list of keys-values tuples.\n",
        "dict = { 'Vedant': 13, 'Sndesh': 19, 'Saurabh': 44 }\n",
        "list = [(a, b) for a, b in dict.items()]\n",
        "print(sorted(list))"
      ],
      "metadata": {
        "colab": {
          "base_uri": "https://localhost:8080/"
        },
        "id": "mBVcE0WOCtey",
        "outputId": "ce949389-0eaa-4da4-f747-e534d0530047"
      },
      "execution_count": null,
      "outputs": [
        {
          "output_type": "stream",
          "name": "stdout",
          "text": [
            "[('Saurabh', 44), ('Sndesh', 19), ('Vedant', 13)]\n"
          ]
        }
      ]
    },
    {
      "cell_type": "code",
      "source": [
        "#3 Write a function that creates a dictionary with each (key, value) pair being the (lower case, upper case) versions of a letter, respectively.\n",
        "list = ['v','e','d','a','n','t']\n",
        "a = {}\n",
        "\n",
        "for letters in list:\n",
        "  b = letters.upper()\n",
        "  a.update({letters:b})\n",
        "print(a)\n"
      ],
      "metadata": {
        "id": "ZSYfIb_rDZL4",
        "colab": {
          "base_uri": "https://localhost:8080/"
        },
        "outputId": "a4798bb0-b60a-4171-e109-fd992ad20423"
      },
      "execution_count": 4,
      "outputs": [
        {
          "output_type": "stream",
          "name": "stdout",
          "text": [
            "{'v': 'V', 'e': 'E', 'd': 'D', 'a': 'A', 'n': 'N', 't': 'T'}\n"
          ]
        }
      ]
    },
    {
      "cell_type": "code",
      "source": [
        "#4 Write a function, that replaces all vowels in a string with a specified vowel.\n",
        "print(\"Enter the String: \")\n",
        "str = input()\n",
        "\n",
        "print(\"Enter a character: \")\n",
        "char = input()\n",
        "\n",
        "newstr = \"\"\n",
        "for i in range(len(str)):\n",
        "    if str[i]=='a' or str[i]=='e' or str[i]=='i' or str[i]=='o' or str[i]=='u':\n",
        "        newstr = newstr + char\n",
        "    else:\n",
        "        newstr = newstr + str[i]\n",
        "\n",
        "print(\"\\nOriginal String:\", str)\n",
        "print(\"New String:\", newstr)"
      ],
      "metadata": {
        "colab": {
          "base_uri": "https://localhost:8080/"
        },
        "id": "LHyOU6vP0cgL",
        "outputId": "8b02b38a-fb9c-42f3-cf68-751ba4cc0814"
      },
      "execution_count": 5,
      "outputs": [
        {
          "output_type": "stream",
          "name": "stdout",
          "text": [
            "Enter the String: \n",
            "vedant \n",
            "Enter a character: \n",
            "x\n",
            "\n",
            "Original String: vedant \n",
            "New String: vxdxnt \n"
          ]
        }
      ]
    },
    {
      "cell_type": "code",
      "source": [
        "#5 Create a function that takes a string as input and capitalizes a letter if its ASCII code is even and returns its lower case version if its ASCII code is odd.\n",
        "def ascii(st):\n",
        "  res=[]\n",
        "  for index, c in enumerate(st):\n",
        "    if index%2==0:\n",
        "      res.append(c.upper())\n",
        "    else:\n",
        "      res.append(c.lower())\n",
        "  return''.join(res)\n",
        "print(ascii(\"Vedant\"))"
      ],
      "metadata": {
        "colab": {
          "base_uri": "https://localhost:8080/"
        },
        "id": "gJ5E_aKP0_V5",
        "outputId": "bd926ac7-1789-4dfa-ea4c-19cec1652902"
      },
      "execution_count": 6,
      "outputs": [
        {
          "output_type": "stream",
          "name": "stdout",
          "text": [
            "VeDaNt\n"
          ]
        }
      ]
    },
    {
      "cell_type": "markdown",
      "source": [
        "**Section B**"
      ],
      "metadata": {
        "id": "E5vLRHLN2xsN"
      }
    },
    {
      "cell_type": "code",
      "source": [
        "def my_function():\n",
        "  print(\"Hello from a function\")\n",
        "\n",
        "my_function()"
      ],
      "metadata": {
        "colab": {
          "base_uri": "https://localhost:8080/"
        },
        "id": "PkhfsYBQ20ut",
        "outputId": "b326aa16-aa3a-4fec-b69c-154664d04cd6"
      },
      "execution_count": 7,
      "outputs": [
        {
          "output_type": "stream",
          "name": "stdout",
          "text": [
            "Hello from a function\n"
          ]
        }
      ]
    },
    {
      "cell_type": "code",
      "source": [
        "def my_function(country = \"Norway\"):\n",
        "  print(\"I am from \" + country)\n",
        "\n",
        "my_function(\"Sweden\")\n",
        "my_function(\"India\")\n",
        "my_function()\n",
        "my_function(\"Brazil\")"
      ],
      "metadata": {
        "colab": {
          "base_uri": "https://localhost:8080/"
        },
        "id": "n2CsQ5an28E9",
        "outputId": "02012183-eb5f-4bd1-d42a-39e7e730a9f7"
      },
      "execution_count": 8,
      "outputs": [
        {
          "output_type": "stream",
          "name": "stdout",
          "text": [
            "I am from Sweden\n",
            "I am from India\n",
            "I am from Norway\n",
            "I am from Brazil\n"
          ]
        }
      ]
    },
    {
      "cell_type": "code",
      "source": [
        "def my_function(food):\n",
        "  for x in food:\n",
        "    print(x)\n",
        "\n",
        "fruits = [\"apple\", \"banana\", \"cherry\"]\n",
        "\n",
        "my_function(fruits)"
      ],
      "metadata": {
        "colab": {
          "base_uri": "https://localhost:8080/"
        },
        "id": "LdUNei5E3D7E",
        "outputId": "7023fd3f-fd43-4a16-800f-62dcccbd1fab"
      },
      "execution_count": 9,
      "outputs": [
        {
          "output_type": "stream",
          "name": "stdout",
          "text": [
            "apple\n",
            "banana\n",
            "cherry\n"
          ]
        }
      ]
    },
    {
      "cell_type": "code",
      "source": [
        "# Python program to convert Celsius to Fahrenheit using function\n",
        "\n",
        "def convertTemp(c):\n",
        "   f = (c * 1.8) + 32\n",
        "   return f\n",
        "    \n",
        "\n",
        "cel = float(input('Enter temperature in Celsius: '))\n",
        "\n",
        "\n",
        "fahr = convertTemp(cel)\n",
        "print('%0.1f degrees Celsius is equivalent to %0.1f degrees Fahrenheit' %(cel, fahr))"
      ],
      "metadata": {
        "colab": {
          "base_uri": "https://localhost:8080/"
        },
        "id": "GM7ZdOz73Pll",
        "outputId": "c0436a8d-eff4-4112-dfb8-5d4626af9875"
      },
      "execution_count": 11,
      "outputs": [
        {
          "output_type": "stream",
          "name": "stdout",
          "text": [
            "Enter temperature in Celsius: 100\n",
            "100.0 degrees Celsius is equivalent to 212.0 degrees Fahrenheit\n"
          ]
        }
      ]
    },
    {
      "cell_type": "code",
      "source": [
        "def kilometre_1(km):  \n",
        "    conversion_ratio_1= 0.621371  \n",
        "    miles_1 = km * conversion_ratio_1  \n",
        "    print (\"The speed value of car in Miles: \", miles_1)  \n",
        "km = float (input (\"Please enter the speed of car in Kilometre as a unit: \"))  \n",
        "kilometre_1(km)"
      ],
      "metadata": {
        "colab": {
          "base_uri": "https://localhost:8080/"
        },
        "id": "1UO4cVHc3lVs",
        "outputId": "f7153881-510f-4e2c-8ab0-a4a4e4be3d67"
      },
      "execution_count": 12,
      "outputs": [
        {
          "output_type": "stream",
          "name": "stdout",
          "text": [
            "Please enter the speed of car in Kilometre as a unit: 25\n",
            "The speed value of car in Miles:  15.534275000000001\n"
          ]
        }
      ]
    }
  ]
}